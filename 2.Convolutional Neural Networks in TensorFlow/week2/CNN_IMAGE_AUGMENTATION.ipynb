{
  "nbformat": 4,
  "nbformat_minor": 0,
  "metadata": {
    "colab": {
      "name": "CNN_IMAGE_AUGMENTATION.ipynb",
      "provenance": []
    },
    "kernelspec": {
      "name": "python3",
      "display_name": "Python 3"
    },
    "accelerator": "GPU"
  },
  "cells": [
    {
      "cell_type": "code",
      "metadata": {
        "id": "JLEgBAfeobbN",
        "colab_type": "code",
        "colab": {
          "base_uri": "https://localhost:8080/",
          "height": 391
        },
        "outputId": "a32f5f90-d78a-4dc8-e1c4-1f74e25c2b2e"
      },
      "source": [
        "!wget --no-check-certificate \\\n",
        "    https://storage.googleapis.com/laurencemoroney-blog.appspot.com/horse-or-human.zip \\\n",
        "    -O /tmp/horse-or-human.zip\n",
        "\n",
        "!wget --no-check-certificate \\\n",
        "    https://storage.googleapis.com/laurencemoroney-blog.appspot.com/validation-horse-or-human.zip \\\n",
        "    -O /tmp/validation-horse-or-human.zip\n",
        "  "
      ],
      "execution_count": 1,
      "outputs": [
        {
          "output_type": "stream",
          "text": [
            "--2020-08-02 14:47:33--  https://storage.googleapis.com/laurencemoroney-blog.appspot.com/horse-or-human.zip\n",
            "Resolving storage.googleapis.com (storage.googleapis.com)... 173.194.216.128, 173.194.217.128, 172.217.204.128, ...\n",
            "Connecting to storage.googleapis.com (storage.googleapis.com)|173.194.216.128|:443... connected.\n",
            "HTTP request sent, awaiting response... 200 OK\n",
            "Length: 149574867 (143M) [application/zip]\n",
            "Saving to: ‘/tmp/horse-or-human.zip’\n",
            "\n",
            "/tmp/horse-or-human 100%[===================>] 142.65M   169MB/s    in 0.8s    \n",
            "\n",
            "2020-08-02 14:47:34 (169 MB/s) - ‘/tmp/horse-or-human.zip’ saved [149574867/149574867]\n",
            "\n",
            "--2020-08-02 14:47:36--  https://storage.googleapis.com/laurencemoroney-blog.appspot.com/validation-horse-or-human.zip\n",
            "Resolving storage.googleapis.com (storage.googleapis.com)... 173.194.216.128, 64.233.170.128, 172.217.204.128, ...\n",
            "Connecting to storage.googleapis.com (storage.googleapis.com)|173.194.216.128|:443... connected.\n",
            "HTTP request sent, awaiting response... 200 OK\n",
            "Length: 11480187 (11M) [application/zip]\n",
            "Saving to: ‘/tmp/validation-horse-or-human.zip’\n",
            "\n",
            "/tmp/validation-hor 100%[===================>]  10.95M  70.5MB/s    in 0.2s    \n",
            "\n",
            "2020-08-02 14:47:36 (70.5 MB/s) - ‘/tmp/validation-horse-or-human.zip’ saved [11480187/11480187]\n",
            "\n"
          ],
          "name": "stdout"
        }
      ]
    },
    {
      "cell_type": "code",
      "metadata": {
        "id": "9BWZC10HpDOJ",
        "colab_type": "code",
        "colab": {}
      },
      "source": [
        "import os \n",
        "import zipfile "
      ],
      "execution_count": 2,
      "outputs": []
    },
    {
      "cell_type": "code",
      "metadata": {
        "id": "4umKXr8lpGIB",
        "colab_type": "code",
        "colab": {}
      },
      "source": [
        "local_zip = '/tmp/horse-or-human.zip'\n",
        "zip_ref = zipfile.ZipFile(local_zip, 'r')\n",
        "zip_ref.extractall('/tmp/horse-or-human')"
      ],
      "execution_count": 4,
      "outputs": []
    },
    {
      "cell_type": "code",
      "metadata": {
        "id": "V1Yg1QPvpVtC",
        "colab_type": "code",
        "colab": {}
      },
      "source": [
        "local_zip = '/tmp/validation-horse-or-human.zip'\n",
        "zip_ref = zipfile.ZipFile(local_zip, 'r')\n",
        "zip_ref.extractall('/tmp/validation-horse-or-human')"
      ],
      "execution_count": 5,
      "outputs": []
    },
    {
      "cell_type": "code",
      "metadata": {
        "id": "E2b4Bzftpr_U",
        "colab_type": "code",
        "colab": {}
      },
      "source": [
        "zip_ref.close()"
      ],
      "execution_count": 6,
      "outputs": []
    },
    {
      "cell_type": "code",
      "metadata": {
        "id": "xYleGIydpvi1",
        "colab_type": "code",
        "colab": {}
      },
      "source": [
        "# Directory with our training horse pictures\n",
        "train_horse_dir = os.path.join('/tmp/horse-or-human/horses')\n",
        "\n",
        "# Directory with our training human pictures\n",
        "train_human_dir = os.path.join('/tmp/horse-or-human/humans')\n",
        "\n",
        "# Directory with our validation horse pictures\n",
        "validation_horse_dir = os.path.join('/tmp/validation-horse-or-human/horses')\n",
        "\n",
        "# Directory with our validation human pictures\n",
        "validation_human_dir = os.path.join('/tmp/validation-horse-or-human/humans')"
      ],
      "execution_count": 9,
      "outputs": []
    },
    {
      "cell_type": "code",
      "metadata": {
        "id": "jK7tibENqeva",
        "colab_type": "code",
        "colab": {}
      },
      "source": [
        "import tensorflow as tf"
      ],
      "execution_count": 10,
      "outputs": []
    },
    {
      "cell_type": "code",
      "metadata": {
        "id": "BjoU7xZjqrVh",
        "colab_type": "code",
        "colab": {}
      },
      "source": [
        "model = tf.keras.models.Sequential([\n",
        "  # 1st conv net \n",
        "  tf.keras.layers.Conv2D(16, (3,3), activation='relu', input_shape = (300, 300, 3)), \n",
        "  tf.keras.layers.MaxPooling2D(2,2),\n",
        "\n",
        "  # 2nd Conv\n",
        "  tf.keras.layers.Conv2D(32, (3,3), activation='relu'), \n",
        "  tf.keras.layers.MaxPooling2D(2,2),\n",
        "\n",
        "  # 3rd Conv\n",
        "  tf.keras.layers.Conv2D(64, (3,3), activation='relu'), \n",
        "  tf.keras.layers.MaxPooling2D(2,2), \n",
        "  \n",
        "  # 4th Conv \n",
        "  tf.keras.layers.Conv2D(64, (3,3), activation='relu'), \n",
        "  tf.keras.layers.MaxPooling2D(2,2), \n",
        "\n",
        "  # 5th Conv\n",
        "  tf.keras.layers.Conv2D(64, (3,3), activation='relu'), \n",
        "  tf.keras.layers.MaxPooling2D(2,2), \n",
        "\n",
        "  # Flattern layers\n",
        "  tf.keras.layers.Flatten(), \n",
        "\n",
        "  # 512 neuron hidden layer\n",
        "  tf.keras.layers.Dense(units=512, activation='relu'), \n",
        "\n",
        "  # output layer\n",
        "  tf.keras.layers.Dense(units=1, activation='sigmoid')\n",
        "\n",
        "])"
      ],
      "execution_count": 12,
      "outputs": []
    },
    {
      "cell_type": "code",
      "metadata": {
        "id": "OMC5Na5asTCa",
        "colab_type": "code",
        "colab": {
          "base_uri": "https://localhost:8080/",
          "height": 595
        },
        "outputId": "b3a2cf8c-ccd5-4664-f336-becb6d172232"
      },
      "source": [
        "model.summary()"
      ],
      "execution_count": 13,
      "outputs": [
        {
          "output_type": "stream",
          "text": [
            "Model: \"sequential\"\n",
            "_________________________________________________________________\n",
            "Layer (type)                 Output Shape              Param #   \n",
            "=================================================================\n",
            "conv2d_4 (Conv2D)            (None, 298, 298, 16)      448       \n",
            "_________________________________________________________________\n",
            "max_pooling2d_3 (MaxPooling2 (None, 149, 149, 16)      0         \n",
            "_________________________________________________________________\n",
            "conv2d_5 (Conv2D)            (None, 147, 147, 32)      4640      \n",
            "_________________________________________________________________\n",
            "max_pooling2d_4 (MaxPooling2 (None, 73, 73, 32)        0         \n",
            "_________________________________________________________________\n",
            "conv2d_6 (Conv2D)            (None, 71, 71, 64)        18496     \n",
            "_________________________________________________________________\n",
            "max_pooling2d_5 (MaxPooling2 (None, 35, 35, 64)        0         \n",
            "_________________________________________________________________\n",
            "conv2d_7 (Conv2D)            (None, 33, 33, 64)        36928     \n",
            "_________________________________________________________________\n",
            "max_pooling2d_6 (MaxPooling2 (None, 16, 16, 64)        0         \n",
            "_________________________________________________________________\n",
            "conv2d_8 (Conv2D)            (None, 14, 14, 64)        36928     \n",
            "_________________________________________________________________\n",
            "max_pooling2d_7 (MaxPooling2 (None, 7, 7, 64)          0         \n",
            "_________________________________________________________________\n",
            "flatten (Flatten)            (None, 3136)              0         \n",
            "_________________________________________________________________\n",
            "dense (Dense)                (None, 512)               1606144   \n",
            "_________________________________________________________________\n",
            "dense_1 (Dense)              (None, 1)                 513       \n",
            "=================================================================\n",
            "Total params: 1,704,097\n",
            "Trainable params: 1,704,097\n",
            "Non-trainable params: 0\n",
            "_________________________________________________________________\n"
          ],
          "name": "stdout"
        }
      ]
    },
    {
      "cell_type": "code",
      "metadata": {
        "id": "4HJiWuHysZnJ",
        "colab_type": "code",
        "colab": {}
      },
      "source": [
        "train_datagen = tf.keras.preprocessing.image.ImageDataGenerator(\n",
        "    rescale = 1./255, \n",
        "    rotation_range = 40, \n",
        "    width_shift_range = 0.2, \n",
        "    height_shift_range = 0.2, \n",
        "    shear_range = 0.2, \n",
        "    zoom_range = 0.2, \n",
        "    horizontal_flip = True, \n",
        "    fill_mode = 'nearest'\n",
        ")"
      ],
      "execution_count": 19,
      "outputs": []
    },
    {
      "cell_type": "code",
      "metadata": {
        "id": "zp4zvX-otD8_",
        "colab_type": "code",
        "colab": {}
      },
      "source": [
        "validation_datagen = tf.keras.preprocessing.image.ImageDataGenerator(\n",
        "    rescale = 1./255\n",
        ")"
      ],
      "execution_count": 20,
      "outputs": []
    },
    {
      "cell_type": "code",
      "metadata": {
        "id": "2JFZd10utKtA",
        "colab_type": "code",
        "colab": {
          "base_uri": "https://localhost:8080/",
          "height": 34
        },
        "outputId": "42fa4f3d-64e1-48fd-d69c-5d74716a2fa8"
      },
      "source": [
        "train_generator = train_datagen.flow_from_directory(\n",
        "    '/tmp/horse-or-human/', \n",
        "    target_size = (300, 300), \n",
        "    batch_size = 128, \n",
        "    class_mode = 'binary'\n",
        ")"
      ],
      "execution_count": 21,
      "outputs": [
        {
          "output_type": "stream",
          "text": [
            "Found 1027 images belonging to 2 classes.\n"
          ],
          "name": "stdout"
        }
      ]
    },
    {
      "cell_type": "code",
      "metadata": {
        "id": "FoAngDy9thfZ",
        "colab_type": "code",
        "colab": {
          "base_uri": "https://localhost:8080/",
          "height": 34
        },
        "outputId": "5836fb96-234d-467a-a4e1-8ca7549a58e3"
      },
      "source": [
        "validation_generator = `"
      ],
      "execution_count": 22,
      "outputs": [
        {
          "output_type": "stream",
          "text": [
            "Found 256 images belonging to 2 classes.\n"
          ],
          "name": "stdout"
        }
      ]
    },
    {
      "cell_type": "code",
      "metadata": {
        "id": "eoZtKcchun9Z",
        "colab_type": "code",
        "colab": {}
      },
      "source": [
        "model.compile(\n",
        "    optimizer = tf.keras.optimizers.RMSprop(lr = 1e-4), \n",
        "    loss = 'binary_crossentropy', \n",
        "    metrics = ['accuracy']\n",
        ")"
      ],
      "execution_count": 24,
      "outputs": []
    },
    {
      "cell_type": "code",
      "metadata": {
        "id": "j5zl_vXJtwLz",
        "colab_type": "code",
        "colab": {
          "base_uri": "https://localhost:8080/",
          "height": 1000
        },
        "outputId": "50abbe73-86c1-49de-fdac-a979ef197635"
      },
      "source": [
        "history = model.fit(\n",
        "      train_generator,\n",
        "      steps_per_epoch=8,  \n",
        "      epochs=100,\n",
        "      verbose=1,\n",
        "      validation_data = validation_generator,\n",
        "      validation_steps=8)"
      ],
      "execution_count": 25,
      "outputs": [
        {
          "output_type": "stream",
          "text": [
            "Epoch 1/100\n",
            "8/8 [==============================] - 21s 3s/step - loss: 0.6901 - accuracy: 0.5362 - val_loss: 0.6755 - val_accuracy: 0.7227\n",
            "Epoch 2/100\n",
            "8/8 [==============================] - 20s 3s/step - loss: 0.6752 - accuracy: 0.6719 - val_loss: 0.7317 - val_accuracy: 0.5000\n",
            "Epoch 3/100\n",
            "8/8 [==============================] - 23s 3s/step - loss: 0.6632 - accuracy: 0.5918 - val_loss: 0.6326 - val_accuracy: 0.5273\n",
            "Epoch 4/100\n",
            "8/8 [==============================] - 23s 3s/step - loss: 0.6345 - accuracy: 0.6919 - val_loss: 0.5916 - val_accuracy: 0.6133\n",
            "Epoch 5/100\n",
            "8/8 [==============================] - 21s 3s/step - loss: 0.5973 - accuracy: 0.6930 - val_loss: 0.5652 - val_accuracy: 0.6289\n",
            "Epoch 6/100\n",
            "8/8 [==============================] - 20s 3s/step - loss: 0.5528 - accuracy: 0.7275 - val_loss: 0.5189 - val_accuracy: 0.7031\n",
            "Epoch 7/100\n",
            "8/8 [==============================] - 20s 3s/step - loss: 0.5768 - accuracy: 0.6885 - val_loss: 0.5473 - val_accuracy: 0.6484\n",
            "Epoch 8/100\n",
            "8/8 [==============================] - 21s 3s/step - loss: 0.5267 - accuracy: 0.7642 - val_loss: 0.6092 - val_accuracy: 0.6250\n",
            "Epoch 9/100\n",
            "8/8 [==============================] - 20s 3s/step - loss: 0.5379 - accuracy: 0.7186 - val_loss: 0.5659 - val_accuracy: 0.6836\n",
            "Epoch 10/100\n",
            "8/8 [==============================] - 23s 3s/step - loss: 0.5240 - accuracy: 0.7186 - val_loss: 0.7173 - val_accuracy: 0.6133\n",
            "Epoch 11/100\n",
            "8/8 [==============================] - 20s 2s/step - loss: 0.4707 - accuracy: 0.7820 - val_loss: 0.4806 - val_accuracy: 0.7383\n",
            "Epoch 12/100\n",
            "8/8 [==============================] - 21s 3s/step - loss: 0.4710 - accuracy: 0.7742 - val_loss: 0.9038 - val_accuracy: 0.6094\n",
            "Epoch 13/100\n",
            "8/8 [==============================] - 23s 3s/step - loss: 0.4712 - accuracy: 0.7754 - val_loss: 0.6790 - val_accuracy: 0.7031\n",
            "Epoch 14/100\n",
            "8/8 [==============================] - 20s 3s/step - loss: 0.4321 - accuracy: 0.7909 - val_loss: 1.7558 - val_accuracy: 0.5195\n",
            "Epoch 15/100\n",
            "8/8 [==============================] - 21s 3s/step - loss: 0.4628 - accuracy: 0.7853 - val_loss: 0.7672 - val_accuracy: 0.7070\n",
            "Epoch 16/100\n",
            "8/8 [==============================] - 20s 3s/step - loss: 0.4263 - accuracy: 0.8020 - val_loss: 1.2132 - val_accuracy: 0.5977\n",
            "Epoch 17/100\n",
            "8/8 [==============================] - 22s 3s/step - loss: 0.3843 - accuracy: 0.8379 - val_loss: 1.1265 - val_accuracy: 0.6484\n",
            "Epoch 18/100\n",
            "8/8 [==============================] - 23s 3s/step - loss: 0.3918 - accuracy: 0.8213 - val_loss: 1.0211 - val_accuracy: 0.6484\n",
            "Epoch 19/100\n",
            "8/8 [==============================] - 20s 3s/step - loss: 0.3931 - accuracy: 0.8287 - val_loss: 1.0808 - val_accuracy: 0.6641\n",
            "Epoch 20/100\n",
            "8/8 [==============================] - 20s 3s/step - loss: 0.4226 - accuracy: 0.7998 - val_loss: 0.9313 - val_accuracy: 0.6836\n",
            "Epoch 21/100\n",
            "8/8 [==============================] - 21s 3s/step - loss: 0.3650 - accuracy: 0.8298 - val_loss: 1.1861 - val_accuracy: 0.6484\n",
            "Epoch 22/100\n",
            "8/8 [==============================] - 22s 3s/step - loss: 0.3526 - accuracy: 0.8330 - val_loss: 1.4875 - val_accuracy: 0.6055\n",
            "Epoch 23/100\n",
            "8/8 [==============================] - 23s 3s/step - loss: 0.3626 - accuracy: 0.8476 - val_loss: 1.4152 - val_accuracy: 0.6172\n",
            "Epoch 24/100\n",
            "8/8 [==============================] - 20s 3s/step - loss: 0.3375 - accuracy: 0.8409 - val_loss: 1.6374 - val_accuracy: 0.6055\n",
            "Epoch 25/100\n",
            "8/8 [==============================] - 20s 3s/step - loss: 0.3536 - accuracy: 0.8320 - val_loss: 1.7813 - val_accuracy: 0.5781\n",
            "Epoch 26/100\n",
            "8/8 [==============================] - 21s 3s/step - loss: 0.3503 - accuracy: 0.8543 - val_loss: 1.2660 - val_accuracy: 0.6367\n",
            "Epoch 27/100\n",
            "8/8 [==============================] - 20s 3s/step - loss: 0.3570 - accuracy: 0.8521 - val_loss: 1.1973 - val_accuracy: 0.6484\n",
            "Epoch 28/100\n",
            "8/8 [==============================] - 20s 3s/step - loss: 0.2892 - accuracy: 0.8788 - val_loss: 1.6828 - val_accuracy: 0.5977\n",
            "Epoch 29/100\n",
            "8/8 [==============================] - 21s 3s/step - loss: 0.3324 - accuracy: 0.8554 - val_loss: 1.5815 - val_accuracy: 0.6211\n",
            "Epoch 30/100\n",
            "8/8 [==============================] - 20s 3s/step - loss: 0.2833 - accuracy: 0.8932 - val_loss: 1.5365 - val_accuracy: 0.6484\n",
            "Epoch 31/100\n",
            "8/8 [==============================] - 20s 3s/step - loss: 0.2669 - accuracy: 0.8888 - val_loss: 2.4914 - val_accuracy: 0.5508\n",
            "Epoch 32/100\n",
            "8/8 [==============================] - 21s 3s/step - loss: 0.2673 - accuracy: 0.8810 - val_loss: 1.3164 - val_accuracy: 0.6797\n",
            "Epoch 33/100\n",
            "8/8 [==============================] - 21s 3s/step - loss: 0.2928 - accuracy: 0.8565 - val_loss: 1.6803 - val_accuracy: 0.6328\n",
            "Epoch 34/100\n",
            "8/8 [==============================] - 21s 3s/step - loss: 0.2547 - accuracy: 0.8988 - val_loss: 0.7984 - val_accuracy: 0.7773\n",
            "Epoch 35/100\n",
            "8/8 [==============================] - 20s 3s/step - loss: 0.2823 - accuracy: 0.8776 - val_loss: 2.3705 - val_accuracy: 0.5625\n",
            "Epoch 36/100\n",
            "8/8 [==============================] - 21s 3s/step - loss: 0.2366 - accuracy: 0.9055 - val_loss: 2.2303 - val_accuracy: 0.5742\n",
            "Epoch 37/100\n",
            "8/8 [==============================] - 21s 3s/step - loss: 0.2660 - accuracy: 0.8910 - val_loss: 2.0022 - val_accuracy: 0.6016\n",
            "Epoch 38/100\n",
            "8/8 [==============================] - 21s 3s/step - loss: 0.3224 - accuracy: 0.8765 - val_loss: 1.9060 - val_accuracy: 0.6172\n",
            "Epoch 39/100\n",
            "8/8 [==============================] - 21s 3s/step - loss: 0.2256 - accuracy: 0.8910 - val_loss: 2.0282 - val_accuracy: 0.6133\n",
            "Epoch 40/100\n",
            "8/8 [==============================] - 21s 3s/step - loss: 0.2492 - accuracy: 0.9143 - val_loss: 2.1234 - val_accuracy: 0.5977\n",
            "Epoch 41/100\n",
            "8/8 [==============================] - 24s 3s/step - loss: 0.2412 - accuracy: 0.8910 - val_loss: 1.4726 - val_accuracy: 0.6875\n",
            "Epoch 42/100\n",
            "8/8 [==============================] - 21s 3s/step - loss: 0.2437 - accuracy: 0.8966 - val_loss: 1.8647 - val_accuracy: 0.6719\n",
            "Epoch 43/100\n",
            "8/8 [==============================] - 23s 3s/step - loss: 0.2125 - accuracy: 0.9160 - val_loss: 1.5207 - val_accuracy: 0.6875\n",
            "Epoch 44/100\n",
            "8/8 [==============================] - 21s 3s/step - loss: 0.2423 - accuracy: 0.8943 - val_loss: 1.8854 - val_accuracy: 0.6523\n",
            "Epoch 45/100\n",
            "8/8 [==============================] - 22s 3s/step - loss: 0.1677 - accuracy: 0.9422 - val_loss: 2.0693 - val_accuracy: 0.6641\n",
            "Epoch 46/100\n",
            "8/8 [==============================] - 21s 3s/step - loss: 0.2466 - accuracy: 0.9021 - val_loss: 2.6713 - val_accuracy: 0.5977\n",
            "Epoch 48/100\n",
            "8/8 [==============================] - 24s 3s/step - loss: 0.1844 - accuracy: 0.9344 - val_loss: 2.3341 - val_accuracy: 0.6367\n",
            "Epoch 49/100\n",
            "8/8 [==============================] - 24s 3s/step - loss: 0.1966 - accuracy: 0.9255 - val_loss: 2.5508 - val_accuracy: 0.6133\n",
            "Epoch 50/100\n",
            "8/8 [==============================] - 21s 3s/step - loss: 0.2141 - accuracy: 0.9032 - val_loss: 1.6856 - val_accuracy: 0.6836\n",
            "Epoch 51/100\n",
            "8/8 [==============================] - 21s 3s/step - loss: 0.2263 - accuracy: 0.9021 - val_loss: 1.7288 - val_accuracy: 0.6797\n",
            "Epoch 52/100\n",
            "8/8 [==============================] - 21s 3s/step - loss: 0.1609 - accuracy: 0.9333 - val_loss: 2.4211 - val_accuracy: 0.6328\n",
            "Epoch 53/100\n",
            "8/8 [==============================] - 21s 3s/step - loss: 0.2485 - accuracy: 0.9143 - val_loss: 2.3676 - val_accuracy: 0.6289\n",
            "Epoch 54/100\n",
            "8/8 [==============================] - 21s 3s/step - loss: 0.1589 - accuracy: 0.9477 - val_loss: 3.0909 - val_accuracy: 0.5859\n",
            "Epoch 55/100\n",
            "8/8 [==============================] - 21s 3s/step - loss: 0.2256 - accuracy: 0.9166 - val_loss: 2.3864 - val_accuracy: 0.6484\n",
            "Epoch 56/100\n",
            "8/8 [==============================] - 21s 3s/step - loss: 0.2115 - accuracy: 0.9121 - val_loss: 2.7197 - val_accuracy: 0.5938\n",
            "Epoch 57/100\n",
            "8/8 [==============================] - 21s 3s/step - loss: 0.1414 - accuracy: 0.9566 - val_loss: 4.2747 - val_accuracy: 0.5156\n",
            "Epoch 58/100\n",
            "8/8 [==============================] - 21s 3s/step - loss: 0.1702 - accuracy: 0.9299 - val_loss: 2.8736 - val_accuracy: 0.6055\n",
            "Epoch 59/100\n",
            "8/8 [==============================] - 21s 3s/step - loss: 0.1557 - accuracy: 0.9422 - val_loss: 3.5556 - val_accuracy: 0.5586\n",
            "Epoch 60/100\n",
            "8/8 [==============================] - 21s 3s/step - loss: 0.1724 - accuracy: 0.9288 - val_loss: 2.8745 - val_accuracy: 0.6016\n",
            "Epoch 61/100\n",
            "8/8 [==============================] - 21s 3s/step - loss: 0.1456 - accuracy: 0.9455 - val_loss: 2.2882 - val_accuracy: 0.6484\n",
            "Epoch 62/100\n",
            "8/8 [==============================] - 21s 3s/step - loss: 0.1729 - accuracy: 0.9288 - val_loss: 2.9804 - val_accuracy: 0.5977\n",
            "Epoch 63/100\n",
            "8/8 [==============================] - 23s 3s/step - loss: 0.1401 - accuracy: 0.9443 - val_loss: 1.3353 - val_accuracy: 0.7344\n",
            "Epoch 64/100\n",
            "8/8 [==============================] - 21s 3s/step - loss: 0.2703 - accuracy: 0.8754 - val_loss: 1.9377 - val_accuracy: 0.6523\n",
            "Epoch 65/100\n",
            "8/8 [==============================] - 20s 3s/step - loss: 0.1344 - accuracy: 0.9577 - val_loss: 2.3840 - val_accuracy: 0.6328\n",
            "Epoch 66/100\n",
            "8/8 [==============================] - 21s 3s/step - loss: 0.1766 - accuracy: 0.9221 - val_loss: 3.2345 - val_accuracy: 0.6016\n",
            "Epoch 67/100\n",
            "8/8 [==============================] - 21s 3s/step - loss: 0.2440 - accuracy: 0.9166 - val_loss: 3.3381 - val_accuracy: 0.6094\n",
            "Epoch 68/100\n",
            "8/8 [==============================] - 23s 3s/step - loss: 0.1170 - accuracy: 0.9561 - val_loss: 3.2796 - val_accuracy: 0.6094\n",
            "Epoch 69/100\n",
            "8/8 [==============================] - 20s 3s/step - loss: 0.2122 - accuracy: 0.9166 - val_loss: 2.7665 - val_accuracy: 0.6211\n",
            "Epoch 70/100\n",
            "8/8 [==============================] - 21s 3s/step - loss: 0.1060 - accuracy: 0.9689 - val_loss: 3.4823 - val_accuracy: 0.6094\n",
            "Epoch 71/100\n",
            "8/8 [==============================] - 20s 3s/step - loss: 0.1631 - accuracy: 0.9299 - val_loss: 3.8045 - val_accuracy: 0.5625\n",
            "Epoch 72/100\n",
            "8/8 [==============================] - 24s 3s/step - loss: 0.1571 - accuracy: 0.9444 - val_loss: 2.2051 - val_accuracy: 0.6680\n",
            "Epoch 73/100\n",
            "8/8 [==============================] - 24s 3s/step - loss: 0.1222 - accuracy: 0.9566 - val_loss: 3.0133 - val_accuracy: 0.6289\n",
            "Epoch 74/100\n",
            "8/8 [==============================] - 23s 3s/step - loss: 0.1770 - accuracy: 0.9365 - val_loss: 2.4438 - val_accuracy: 0.6562\n",
            "Epoch 75/100\n",
            "8/8 [==============================] - 21s 3s/step - loss: 0.1219 - accuracy: 0.9499 - val_loss: 3.9305 - val_accuracy: 0.5781\n",
            "Epoch 76/100\n",
            "8/8 [==============================] - 21s 3s/step - loss: 0.1725 - accuracy: 0.9132 - val_loss: 2.2734 - val_accuracy: 0.6680\n",
            "Epoch 77/100\n",
            "8/8 [==============================] - 21s 3s/step - loss: 0.1095 - accuracy: 0.9611 - val_loss: 2.1477 - val_accuracy: 0.6797\n",
            "Epoch 78/100\n",
            "8/8 [==============================] - 21s 3s/step - loss: 0.1816 - accuracy: 0.9310 - val_loss: 2.7455 - val_accuracy: 0.6289\n",
            "Epoch 79/100\n",
            "8/8 [==============================] - 24s 3s/step - loss: 0.1156 - accuracy: 0.9658 - val_loss: 2.4298 - val_accuracy: 0.6602\n",
            "Epoch 80/100\n",
            "8/8 [==============================] - 21s 3s/step - loss: 0.1529 - accuracy: 0.9355 - val_loss: 3.3376 - val_accuracy: 0.5977\n",
            "Epoch 81/100\n",
            "8/8 [==============================] - 21s 3s/step - loss: 0.1170 - accuracy: 0.9533 - val_loss: 3.6019 - val_accuracy: 0.6133\n",
            "Epoch 82/100\n",
            "8/8 [==============================] - 22s 3s/step - loss: 0.0960 - accuracy: 0.9666 - val_loss: 3.2843 - val_accuracy: 0.6250\n",
            "Epoch 83/100\n",
            "8/8 [==============================] - 21s 3s/step - loss: 0.2507 - accuracy: 0.9199 - val_loss: 3.9559 - val_accuracy: 0.5898\n",
            "Epoch 84/100\n",
            "8/8 [==============================] - 21s 3s/step - loss: 0.0956 - accuracy: 0.9655 - val_loss: 6.1136 - val_accuracy: 0.5039\n",
            "Epoch 85/100\n",
            "8/8 [==============================] - 21s 3s/step - loss: 0.1701 - accuracy: 0.9321 - val_loss: 3.4230 - val_accuracy: 0.6211\n",
            "Epoch 86/100\n",
            "8/8 [==============================] - 25s 3s/step - loss: 0.0777 - accuracy: 0.9755 - val_loss: 3.6950 - val_accuracy: 0.6172\n",
            "Epoch 87/100\n",
            "8/8 [==============================] - 22s 3s/step - loss: 0.1015 - accuracy: 0.9689 - val_loss: 3.2118 - val_accuracy: 0.6328\n",
            "Epoch 88/100\n",
            "8/8 [==============================] - 21s 3s/step - loss: 0.1232 - accuracy: 0.9522 - val_loss: 2.8907 - val_accuracy: 0.6367\n",
            "Epoch 89/100\n",
            "8/8 [==============================] - 21s 3s/step - loss: 0.1188 - accuracy: 0.9588 - val_loss: 1.8524 - val_accuracy: 0.7305\n",
            "Epoch 90/100\n",
            "8/8 [==============================] - 21s 3s/step - loss: 0.1401 - accuracy: 0.9466 - val_loss: 3.5889 - val_accuracy: 0.6172\n",
            "Epoch 91/100\n",
            "8/8 [==============================] - 21s 3s/step - loss: 0.1589 - accuracy: 0.9410 - val_loss: 3.2128 - val_accuracy: 0.6367\n",
            "Epoch 92/100\n",
            "8/8 [==============================] - 21s 3s/step - loss: 0.0939 - accuracy: 0.9655 - val_loss: 2.7019 - val_accuracy: 0.6641\n",
            "Epoch 93/100\n",
            "8/8 [==============================] - 21s 3s/step - loss: 0.1391 - accuracy: 0.9433 - val_loss: 3.1777 - val_accuracy: 0.5938\n",
            "Epoch 94/100\n",
            "8/8 [==============================] - 22s 3s/step - loss: 0.1000 - accuracy: 0.9600 - val_loss: 3.5667 - val_accuracy: 0.6094\n",
            "Epoch 95/100\n",
            "8/8 [==============================] - 24s 3s/step - loss: 0.0975 - accuracy: 0.9600 - val_loss: 3.2241 - val_accuracy: 0.6328\n",
            "Epoch 96/100\n",
            "8/8 [==============================] - 22s 3s/step - loss: 0.1845 - accuracy: 0.9321 - val_loss: 2.4159 - val_accuracy: 0.6562\n",
            "Epoch 97/100\n",
            "8/8 [==============================] - 22s 3s/step - loss: 0.0881 - accuracy: 0.9722 - val_loss: 2.9259 - val_accuracy: 0.6289\n",
            "Epoch 98/100\n",
            "8/8 [==============================] - 22s 3s/step - loss: 0.1141 - accuracy: 0.9577 - val_loss: 3.0960 - val_accuracy: 0.6211\n",
            "Epoch 99/100\n",
            "8/8 [==============================] - 22s 3s/step - loss: 0.1214 - accuracy: 0.9511 - val_loss: 3.1269 - val_accuracy: 0.6328\n",
            "Epoch 100/100\n",
            "8/8 [==============================] - 22s 3s/step - loss: 0.0849 - accuracy: 0.9666 - val_loss: 4.2380 - val_accuracy: 0.6055\n"
          ],
          "name": "stdout"
        }
      ]
    },
    {
      "cell_type": "code",
      "metadata": {
        "id": "4B4NHKh2t67B",
        "colab_type": "code",
        "colab": {
          "base_uri": "https://localhost:8080/",
          "height": 545
        },
        "outputId": "50268fd0-00ce-439e-a17e-b3cd29192c66"
      },
      "source": [
        "import matplotlib.pyplot as plt\n",
        "acc = history.history['accuracy']\n",
        "val_acc = history.history['val_accuracy']\n",
        "loss = history.history['loss']\n",
        "val_loss = history.history['val_loss']\n",
        "\n",
        "epochs = range(len(acc))\n",
        "\n",
        "plt.plot(epochs, acc, 'r', label='Training accuracy')\n",
        "plt.plot(epochs, val_acc, 'b', label='Validation accuracy')\n",
        "plt.title('Training and validation accuracy')\n",
        "\n",
        "plt.figure()\n",
        "\n",
        "plt.plot(epochs, loss, 'r', label='Training Loss')\n",
        "plt.plot(epochs, val_loss, 'b', label='Validation Loss')\n",
        "plt.title('Training and validation loss')\n",
        "plt.legend()\n",
        "\n",
        "plt.show()"
      ],
      "execution_count": 26,
      "outputs": [
        {
          "output_type": "display_data",
          "data": {
            "image/png": "[encoded data removed]",
            "text/plain": [
              "<Figure size 432x288 with 1 Axes>"
            ]
          },
          "metadata": {
            "tags": [],
            "needs_background": "light"
          }
        },
        {
          "output_type": "display_data",
          "data": {
            "image/png": "[encoded data removed]",
            "text/plain": [
              "<Figure size 432x288 with 1 Axes>"
            ]
          },
          "metadata": {
            "tags": [],
            "needs_background": "light"
          }
        }
      ]
    },
    {
      "cell_type": "code",
      "metadata": {
        "id": "Y4xlw6Q9u_CD",
        "colab_type": "code",
        "colab": {}
      },
      "source": [
        "  "
      ],
      "execution_count": null,
      "outputs": []
    }
  ]
}