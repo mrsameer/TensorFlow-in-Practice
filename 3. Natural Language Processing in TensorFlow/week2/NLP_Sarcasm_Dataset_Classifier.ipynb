{
  "nbformat": 4,
  "nbformat_minor": 0,
  "metadata": {
    "colab": {
      "name": "NLP_Sarcasm_Dataset_Classifier.ipynb",
      "provenance": [],
      "collapsed_sections": []
    },
    "kernelspec": {
      "name": "python3",
      "display_name": "Python 3"
    },
    "accelerator": "GPU"
  },
  "cells": [
    {
      "cell_type": "code",
      "metadata": {
        "id": "0K60g78uRGSN",
        "colab_type": "code",
        "colab": {}
      },
      "source": [
        "import json\n",
        "import tensorflow as tf\n",
        "\n",
        "from tensorflow.keras.preprocessing.text import Tokenizer\n",
        "from tensorflow.keras.preprocessing.sequence import pad_sequences\n"
      ],
      "execution_count": 1,
      "outputs": []
    },
    {
      "cell_type": "code",
      "metadata": {
        "id": "d5wgRhsXRgWs",
        "colab_type": "code",
        "colab": {}
      },
      "source": [
        "# Set up hyper parameters\n",
        "vocab_size = 10000\n",
        "embedding_dim = 16\n",
        "max_length = 100\n",
        "trunc_type='post'\n",
        "padding_type='post'\n",
        "oov_tok = \"<OOV>\"\n",
        "training_size = 20000 "
      ],
      "execution_count": 30,
      "outputs": []
    },
    {
      "cell_type": "code",
      "metadata": {
        "id": "GWDnez4uRwuY",
        "colab_type": "code",
        "colab": {
          "base_uri": "https://localhost:8080/",
          "height": 204
        },
        "outputId": "99cbfaba-b5a3-4244-fc0b-34d45e4b2c09"
      },
      "source": [
        "!wget --no-check-certificate \\\n",
        "    https://storage.googleapis.com/laurencemoroney-blog.appspot.com/sarcasm.json\\\n",
        "    -O /tmp/sarcasm.json"
      ],
      "execution_count": 3,
      "outputs": [
        {
          "output_type": "stream",
          "text": [
            "--2020-08-05 06:21:56--  https://storage.googleapis.com/laurencemoroney-blog.appspot.com/sarcasm.json\n",
            "Resolving storage.googleapis.com (storage.googleapis.com)... 108.177.127.128, 173.194.69.128, 173.194.79.128, ...\n",
            "Connecting to storage.googleapis.com (storage.googleapis.com)|108.177.127.128|:443... connected.\n",
            "HTTP request sent, awaiting response... 200 OK\n",
            "Length: 5643545 (5.4M) [application/json]\n",
            "Saving to: ‘/tmp/sarcasm.json’\n",
            "\n",
            "\r/tmp/sarcasm.json     0%[                    ]       0  --.-KB/s               \r/tmp/sarcasm.json   100%[===================>]   5.38M  32.1MB/s    in 0.2s    \n",
            "\n",
            "2020-08-05 06:21:57 (32.1 MB/s) - ‘/tmp/sarcasm.json’ saved [5643545/5643545]\n",
            "\n"
          ],
          "name": "stdout"
        }
      ]
    },
    {
      "cell_type": "code",
      "metadata": {
        "id": "cRCau0jnSI1T",
        "colab_type": "code",
        "colab": {}
      },
      "source": [
        "# open dataset and load it as iterable \n",
        "\n",
        "with open('/tmp/sarcasm.json', 'r') as f:\n",
        "  datastore = json.load(f)\n",
        "\n",
        "sentences = []\n",
        "labels = []\n",
        "\n",
        "for item in datastore:\n",
        "  sentences.append(item['headline'])\n",
        "  labels.append(item['is_sarcastic'])"
      ],
      "execution_count": 31,
      "outputs": []
    },
    {
      "cell_type": "code",
      "metadata": {
        "id": "BJJ9pLoQSp7H",
        "colab_type": "code",
        "colab": {}
      },
      "source": [
        "# split into training and validation set\n",
        "training_sentences = sentences[0:training_size]\n",
        "testing_sentences = sentences[training_size:]\n",
        "training_labels = labels[0:training_size]\n",
        "testing_labels = labels[training_size:]"
      ],
      "execution_count": 32,
      "outputs": []
    },
    {
      "cell_type": "code",
      "metadata": {
        "id": "H5tTA1K0TEMH",
        "colab_type": "code",
        "colab": {}
      },
      "source": [
        "# sequence dataset and pad those sequences\n",
        "tokenizer = Tokenizer(num_words=vocab_size, oov_token=oov_tok)\n",
        "tokenizer.fit_on_texts(training_sentences)\n",
        "\n",
        "word_index = tokenizer.word_index\n",
        "\n",
        "training_sequences = tokenizer.texts_to_sequences(training_sentences)\n",
        "training_padded = pad_sequences(training_sequences, maxlen=max_length, padding=padding_type, truncating=trunc_type)\n",
        "\n",
        "testing_sequences = tokenizer.texts_to_sequences(testing_sentences)\n",
        "testing_padded = pad_sequences(testing_sequences, maxlen=max_length, padding=padding_type, truncating=trunc_type)"
      ],
      "execution_count": 33,
      "outputs": []
    },
    {
      "cell_type": "code",
      "metadata": {
        "id": "o1wdmtpTW1Mb",
        "colab_type": "code",
        "colab": {}
      },
      "source": [
        "# Need this block to get it to work with TensorFlow 2.x\n",
        "import numpy as np\n",
        "training_padded = np.array(training_padded)\n",
        "training_labels = np.array(training_labels)\n",
        "testing_padded = np.array(testing_padded)\n",
        "testing_labels = np.array(testing_labels)"
      ],
      "execution_count": 34,
      "outputs": []
    },
    {
      "cell_type": "code",
      "metadata": {
        "id": "SmvjDfdBUCAY",
        "colab_type": "code",
        "colab": {}
      },
      "source": [
        "# Define model \n",
        "model = tf.keras.Sequential([\n",
        "                             tf.keras.layers.Embedding(10000, 16, input_length=max_length), \n",
        "                             tf.keras.layers.GlobalAveragePooling1D(), \n",
        "                             tf.keras.layers.Dense(24, activation = 'relu'), \n",
        "                             tf.keras.layers.Dense(1, activation = 'sigmoid')\n",
        "])"
      ],
      "execution_count": 35,
      "outputs": []
    },
    {
      "cell_type": "code",
      "metadata": {
        "id": "-oXOWXawU_3v",
        "colab_type": "code",
        "colab": {}
      },
      "source": [
        "# Compile model \n",
        "model.compile(loss = 'binary_crossentropy', optimizer = 'adam', metrics = ['accuracy'])\n"
      ],
      "execution_count": 36,
      "outputs": []
    },
    {
      "cell_type": "code",
      "metadata": {
        "id": "cPQz84TPVNG1",
        "colab_type": "code",
        "colab": {
          "base_uri": "https://localhost:8080/",
          "height": 289
        },
        "outputId": "e38c191f-fa7d-4259-da78-ff56a19955d3"
      },
      "source": [
        "model.summary()"
      ],
      "execution_count": 37,
      "outputs": [
        {
          "output_type": "stream",
          "text": [
            "Model: \"sequential_3\"\n",
            "_________________________________________________________________\n",
            "Layer (type)                 Output Shape              Param #   \n",
            "=================================================================\n",
            "embedding_3 (Embedding)      (None, 100, 16)           160000    \n",
            "_________________________________________________________________\n",
            "global_average_pooling1d_3 ( (None, 16)                0         \n",
            "_________________________________________________________________\n",
            "dense_6 (Dense)              (None, 24)                408       \n",
            "_________________________________________________________________\n",
            "dense_7 (Dense)              (None, 1)                 25        \n",
            "=================================================================\n",
            "Total params: 160,433\n",
            "Trainable params: 160,433\n",
            "Non-trainable params: 0\n",
            "_________________________________________________________________\n"
          ],
          "name": "stdout"
        }
      ]
    },
    {
      "cell_type": "code",
      "metadata": {
        "id": "k1kVauy-VOFS",
        "colab_type": "code",
        "colab": {
          "base_uri": "https://localhost:8080/",
          "height": 1000
        },
        "outputId": "89895de8-0d2f-430d-9f14-51dceef4a6ba"
      },
      "source": [
        "# train model \n",
        "num_epochs = 30\n",
        "history = model.fit(training_padded, training_labels, epochs=num_epochs, \n",
        "                    validation_data = (testing_padded, testing_labels), verbose = 2)"
      ],
      "execution_count": 38,
      "outputs": [
        {
          "output_type": "stream",
          "text": [
            "Epoch 1/30\n",
            "625/625 - 3s - loss: 0.6747 - accuracy: 0.5717 - val_loss: 0.6254 - val_accuracy: 0.6148\n",
            "Epoch 2/30\n",
            "625/625 - 2s - loss: 0.4707 - accuracy: 0.8159 - val_loss: 0.4078 - val_accuracy: 0.8256\n",
            "Epoch 3/30\n",
            "625/625 - 3s - loss: 0.3275 - accuracy: 0.8676 - val_loss: 0.3693 - val_accuracy: 0.8401\n",
            "Epoch 4/30\n",
            "625/625 - 3s - loss: 0.2738 - accuracy: 0.8927 - val_loss: 0.3457 - val_accuracy: 0.8557\n",
            "Epoch 5/30\n",
            "625/625 - 3s - loss: 0.2368 - accuracy: 0.9079 - val_loss: 0.3478 - val_accuracy: 0.8509\n",
            "Epoch 6/30\n",
            "625/625 - 2s - loss: 0.2077 - accuracy: 0.9204 - val_loss: 0.3481 - val_accuracy: 0.8571\n",
            "Epoch 7/30\n",
            "625/625 - 3s - loss: 0.1848 - accuracy: 0.9302 - val_loss: 0.3572 - val_accuracy: 0.8556\n",
            "Epoch 8/30\n",
            "625/625 - 3s - loss: 0.1663 - accuracy: 0.9374 - val_loss: 0.3749 - val_accuracy: 0.8517\n",
            "Epoch 9/30\n",
            "625/625 - 3s - loss: 0.1505 - accuracy: 0.9445 - val_loss: 0.3843 - val_accuracy: 0.8539\n",
            "Epoch 10/30\n",
            "625/625 - 2s - loss: 0.1362 - accuracy: 0.9503 - val_loss: 0.4078 - val_accuracy: 0.8475\n",
            "Epoch 11/30\n",
            "625/625 - 3s - loss: 0.1238 - accuracy: 0.9561 - val_loss: 0.4240 - val_accuracy: 0.8512\n",
            "Epoch 12/30\n",
            "625/625 - 2s - loss: 0.1130 - accuracy: 0.9611 - val_loss: 0.4550 - val_accuracy: 0.8450\n",
            "Epoch 13/30\n",
            "625/625 - 2s - loss: 0.1026 - accuracy: 0.9643 - val_loss: 0.4861 - val_accuracy: 0.8399\n",
            "Epoch 14/30\n",
            "625/625 - 3s - loss: 0.0950 - accuracy: 0.9672 - val_loss: 0.4984 - val_accuracy: 0.8447\n",
            "Epoch 15/30\n",
            "625/625 - 2s - loss: 0.0863 - accuracy: 0.9722 - val_loss: 0.5333 - val_accuracy: 0.8408\n",
            "Epoch 16/30\n",
            "625/625 - 3s - loss: 0.0806 - accuracy: 0.9733 - val_loss: 0.5707 - val_accuracy: 0.8371\n",
            "Epoch 17/30\n",
            "625/625 - 3s - loss: 0.0737 - accuracy: 0.9753 - val_loss: 0.5876 - val_accuracy: 0.8359\n",
            "Epoch 18/30\n",
            "625/625 - 3s - loss: 0.0660 - accuracy: 0.9787 - val_loss: 0.6270 - val_accuracy: 0.8307\n",
            "Epoch 19/30\n",
            "625/625 - 3s - loss: 0.0623 - accuracy: 0.9797 - val_loss: 0.6570 - val_accuracy: 0.8310\n",
            "Epoch 20/30\n",
            "625/625 - 3s - loss: 0.0561 - accuracy: 0.9822 - val_loss: 0.6960 - val_accuracy: 0.8296\n",
            "Epoch 21/30\n",
            "625/625 - 3s - loss: 0.0531 - accuracy: 0.9841 - val_loss: 0.7416 - val_accuracy: 0.8264\n",
            "Epoch 22/30\n",
            "625/625 - 3s - loss: 0.0479 - accuracy: 0.9852 - val_loss: 0.7821 - val_accuracy: 0.8235\n",
            "Epoch 23/30\n",
            "625/625 - 3s - loss: 0.0475 - accuracy: 0.9844 - val_loss: 0.7997 - val_accuracy: 0.8238\n",
            "Epoch 24/30\n",
            "625/625 - 3s - loss: 0.0396 - accuracy: 0.9894 - val_loss: 0.8616 - val_accuracy: 0.8204\n",
            "Epoch 25/30\n",
            "625/625 - 3s - loss: 0.0374 - accuracy: 0.9890 - val_loss: 0.8782 - val_accuracy: 0.8213\n",
            "Epoch 26/30\n",
            "625/625 - 3s - loss: 0.0363 - accuracy: 0.9884 - val_loss: 0.9547 - val_accuracy: 0.8171\n",
            "Epoch 27/30\n",
            "625/625 - 3s - loss: 0.0312 - accuracy: 0.9912 - val_loss: 0.9645 - val_accuracy: 0.8177\n",
            "Epoch 28/30\n",
            "625/625 - 2s - loss: 0.0296 - accuracy: 0.9913 - val_loss: 0.9995 - val_accuracy: 0.8179\n",
            "Epoch 29/30\n",
            "625/625 - 3s - loss: 0.0272 - accuracy: 0.9920 - val_loss: 1.0476 - val_accuracy: 0.8167\n",
            "Epoch 30/30\n",
            "625/625 - 3s - loss: 0.0259 - accuracy: 0.9926 - val_loss: 1.0905 - val_accuracy: 0.8149\n"
          ],
          "name": "stdout"
        }
      ]
    },
    {
      "cell_type": "code",
      "metadata": {
        "id": "nuvEc4JRVmKT",
        "colab_type": "code",
        "colab": {
          "base_uri": "https://localhost:8080/",
          "height": 541
        },
        "outputId": "15e2e454-74fd-4f31-d202-d7b027a483a1"
      },
      "source": [
        "import matplotlib.pyplot as plt\n",
        "\n",
        "\n",
        "def plot_graphs(history, string):\n",
        "  plt.plot(history.history[string])\n",
        "  plt.plot(history.history['val_'+string])\n",
        "  plt.xlabel(\"Epochs\")\n",
        "  plt.ylabel(string)\n",
        "  plt.legend([string, 'val_'+string])\n",
        "  plt.show()\n",
        "  \n",
        "plot_graphs(history, \"accuracy\")\n",
        "plot_graphs(history, \"loss\")"
      ],
      "execution_count": 39,
      "outputs": [
        {
          "output_type": "display_data",
          "data": {
            "image/png": "[encoded data removed]",
            "text/plain": [
              "<Figure size 432x288 with 1 Axes>"
            ]
          },
          "metadata": {
            "tags": [],
            "needs_background": "light"
          }
        },
        {
          "output_type": "display_data",
          "data": {
            "image/png": "[encoded data removed]",
            "text/plain": [
              "<Figure size 432x288 with 1 Axes>"
            ]
          },
          "metadata": {
            "tags": [],
            "needs_background": "light"
          }
        }
      ]
    },
    {
      "cell_type": "code",
      "metadata": {
        "id": "ALNZRoBLW9ET",
        "colab_type": "code",
        "colab": {
          "base_uri": "https://localhost:8080/",
          "height": 88
        },
        "outputId": "beab8811-7f6f-4cbf-99dd-3666112c445e"
      },
      "source": [
        "reverse_word_index = dict([(value, key) for (key, value) in word_index.items()])\n",
        "\n",
        "def decode_sentence(text):\n",
        "    return ' '.join([reverse_word_index.get(i, '?') for i in text])\n",
        "\n",
        "print(decode_sentence(training_padded[0]))\n",
        "print(training_sentences[2])\n",
        "print(labels[2])"
      ],
      "execution_count": 40,
      "outputs": [
        {
          "output_type": "stream",
          "text": [
            "former <OOV> store clerk sues over secret 'black <OOV> for minority shoppers ? ? ? ? ? ? ? ? ? ? ? ? ? ? ? ? ? ? ? ? ? ? ? ? ? ? ? ? ? ? ? ? ? ? ? ? ? ? ? ? ? ? ? ? ? ? ? ? ? ? ? ? ? ? ? ? ? ? ? ? ? ? ? ? ? ? ? ? ? ? ? ? ? ? ? ? ? ? ? ? ? ? ? ? ? ? ? ?\n",
            "mom starting to fear son's web series closest thing she will have to grandchild\n",
            "1\n"
          ],
          "name": "stdout"
        }
      ]
    },
    {
      "cell_type": "code",
      "metadata": {
        "id": "bPks1ChOW-f2",
        "colab_type": "code",
        "colab": {
          "base_uri": "https://localhost:8080/",
          "height": 34
        },
        "outputId": "72e92916-c3bc-42c8-ffdf-8325e3561d1e"
      },
      "source": [
        "e = model.layers[0]\n",
        "weights = e.get_weights()[0]\n",
        "print(weights.shape) # shape: (vocab_size, embedding_dim)\n"
      ],
      "execution_count": 41,
      "outputs": [
        {
          "output_type": "stream",
          "text": [
            "(10000, 16)\n"
          ],
          "name": "stdout"
        }
      ]
    },
    {
      "cell_type": "code",
      "metadata": {
        "id": "OR_eFdCPW_1c",
        "colab_type": "code",
        "colab": {}
      },
      "source": [
        "import io\n",
        "\n",
        "out_v = io.open('vecs2.tsv', 'w', encoding='utf-8')\n",
        "out_m = io.open('meta2.tsv', 'w', encoding='utf-8')\n",
        "for word_num in range(1, vocab_size):\n",
        "  word = reverse_word_index[word_num]\n",
        "  embeddings = weights[word_num]\n",
        "  out_m.write(word + \"\\n\")\n",
        "  out_v.write('\\t'.join([str(x) for x in embeddings]) + \"\\n\")\n",
        "out_v.close()\n",
        "out_m.close()"
      ],
      "execution_count": 42,
      "outputs": []
    },
    {
      "cell_type": "code",
      "metadata": {
        "id": "hjGyz-faX9ai",
        "colab_type": "code",
        "colab": {
          "base_uri": "https://localhost:8080/",
          "height": 286
        },
        "outputId": "52d3ebd3-70e1-462b-c5dd-a57743e32ccf"
      },
      "source": [
        "import numpy as np\n",
        "import cv2\n",
        "import matplotlib.pyplot as plt\n",
        "\n",
        "\n",
        "img = cv2.imread('/content/img2.png')\n",
        "plt.imshow(img)"
      ],
      "execution_count": 45,
      "outputs": [
        {
          "output_type": "execute_result",
          "data": {
            "text/plain": [
              "<matplotlib.image.AxesImage at 0x7f89ed4b0a58>"
            ]
          },
          "metadata": {
            "tags": []
          },
          "execution_count": 45
        },
        {
          "output_type": "display_data",
          "data": {
            "image/png": "[encoded data removed]",
            "text/plain": [
              "<Figure size 432x288 with 1 Axes>"
            ]
          },
          "metadata": {
            "tags": [],
            "needs_background": "light"
          }
        }
      ]
    },
    {
      "cell_type": "code",
      "metadata": {
        "id": "HrS3sy3vXCgA",
        "colab_type": "code",
        "colab": {
          "base_uri": "https://localhost:8080/",
          "height": 51
        },
        "outputId": "fc04695c-bdf5-4bd3-c0b6-d02199c62a11"
      },
      "source": [
        "sentence = [\"granny starting to fear spiders in the garden might be real\", \"game of thrones season finale showing this sunday night\"]\n",
        "sequences = tokenizer.texts_to_sequences(sentence)\n",
        "padded = pad_sequences(sequences, maxlen=max_length, padding=padding_type, truncating=trunc_type)\n",
        "print(model.predict(padded))"
      ],
      "execution_count": 43,
      "outputs": [
        {
          "output_type": "stream",
          "text": [
            "[[9.4861007e-01]\n",
            " [3.9913521e-06]]\n"
          ],
          "name": "stdout"
        }
      ]
    },
    {
      "cell_type": "code",
      "metadata": {
        "id": "jBrljUx4XGvL",
        "colab_type": "code",
        "colab": {}
      },
      "source": [
        ""
      ],
      "execution_count": null,
      "outputs": []
    }
  ]
}