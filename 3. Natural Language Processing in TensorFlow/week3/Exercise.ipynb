{
  "nbformat": 4,
  "nbformat_minor": 0,
  "metadata": {
    "accelerator": "GPU",
    "colab": {
      "name": "NLP Course - Week 3 Exercise Answer.ipynb",
      "provenance": [],
      "toc_visible": true
    },
    "kernelspec": {
      "display_name": "Python 3",
      "language": "python",
      "name": "python3"
    },
    "language_info": {
      "codemirror_mode": {
        "name": "ipython",
        "version": 3
      },
      "file_extension": ".py",
      "mimetype": "text/x-python",
      "name": "python",
      "nbconvert_exporter": "python",
      "pygments_lexer": "ipython3",
      "version": "3.7.6"
    }
  },
  "cells": [
    {
      "cell_type": "code",
      "metadata": {
        "colab_type": "code",
        "id": "hmA6EzkQJ5jt",
        "colab": {}
      },
      "source": [
        "import json\n",
        "import tensorflow as tf\n",
        "import csv\n",
        "import random\n",
        "import numpy as np\n",
        "\n",
        "from tensorflow.keras.preprocessing.text import Tokenizer\n",
        "from tensorflow.keras.preprocessing.sequence import pad_sequences\n",
        "from tensorflow.keras.utils import to_categorical\n",
        "from tensorflow.keras import regularizers\n",
        "\n",
        "\n",
        "embedding_dim = 100\n",
        "max_length = 16\n",
        "trunc_type='post'\n",
        "padding_type='post'\n",
        "oov_tok = \"<OOV>\"\n",
        "training_size=160000\n",
        "test_portion=.1\n",
        "\n",
        "corpus = []\n"
      ],
      "execution_count": 3,
      "outputs": []
    },
    {
      "cell_type": "code",
      "metadata": {
        "colab_type": "code",
        "id": "bM0l_dORKqE0",
        "colab": {
          "base_uri": "https://localhost:8080/",
          "height": 204
        },
        "outputId": "6fb86761-31f0-4139-9265-f439900133ed"
      },
      "source": [
        "# Note that I cleaned the Stanford dataset to remove LATIN1 encoding to make it easier for Python CSV reader\n",
        "# You can do that yourself with:\n",
        "# iconv -f LATIN1 -t UTF8 training.1600000.processed.noemoticon.csv -o training_cleaned.csv\n",
        "# I then hosted it on my site to make it easier to use in this notebook\n",
        "\n",
        "!wget --no-check-certificate \\\n",
        "    https://storage.googleapis.com/laurencemoroney-blog.appspot.com/training_cleaned.csv \\\n",
        "    -O /tmp/training_cleaned.csv\n",
        "\n",
        "num_sentences = 0\n",
        "\n",
        "with open(\"/tmp/training_cleaned.csv\") as csvfile:\n",
        "    reader = csv.reader(csvfile, delimiter=',')\n",
        "    for row in reader:\n",
        "        list_item=[]\n",
        "        list_item.append(row[5])\n",
        "        this_label=row[0]\n",
        "        if this_label=='0':\n",
        "            list_item.append(0)\n",
        "        else:\n",
        "            list_item.append(1)\n",
        "        num_sentences = num_sentences + 1\n",
        "        corpus.append(list_item)\n"
      ],
      "execution_count": 4,
      "outputs": [
        {
          "output_type": "stream",
          "text": [
            "--2020-08-06 10:56:16--  https://storage.googleapis.com/laurencemoroney-blog.appspot.com/training_cleaned.csv\n",
            "Resolving storage.googleapis.com (storage.googleapis.com)... 74.125.20.128, 74.125.197.128, 74.125.28.128, ...\n",
            "Connecting to storage.googleapis.com (storage.googleapis.com)|74.125.20.128|:443... connected.\n",
            "HTTP request sent, awaiting response... 200 OK\n",
            "Length: 238942690 (228M) [application/octet-stream]\n",
            "Saving to: ‘/tmp/training_cleaned.csv’\n",
            "\n",
            "\r          /tmp/trai   0%[                    ]       0  --.-KB/s               \r         /tmp/train  14%[=>                  ]  33.55M   168MB/s               \r        /tmp/traini  34%[=====>              ]  78.40M   196MB/s               \r       /tmp/trainin  54%[=========>          ] 123.77M   206MB/s               \r      /tmp/training  75%[==============>     ] 172.66M   216MB/s               \r     /tmp/training_  98%[==================> ] 224.01M   222MB/s               \r/tmp/training_clean 100%[===================>] 227.87M   223MB/s    in 1.0s    \n",
            "\n",
            "2020-08-06 10:56:17 (223 MB/s) - ‘/tmp/training_cleaned.csv’ saved [238942690/238942690]\n",
            "\n"
          ],
          "name": "stdout"
        }
      ]
    },
    {
      "cell_type": "code",
      "metadata": {
        "colab_type": "code",
        "id": "3kxblBUjEUX-",
        "colab": {
          "base_uri": "https://localhost:8080/",
          "height": 88
        },
        "outputId": "888013ca-3307-4963-8bbc-06c8f2380a26"
      },
      "source": [
        "print(num_sentences)\n",
        "print(len(corpus))\n",
        "print(corpus[1])\n",
        "\n",
        "# Expected Output:\n",
        "# 1600000\n",
        "# 1600000\n",
        "# [\"is upset that he can't update his Facebook by texting it... and might cry as a result  School today also. Blah!\", 0]"
      ],
      "execution_count": 5,
      "outputs": [
        {
          "output_type": "stream",
          "text": [
            "1600000\n",
            "1600000\n",
            "[\"is upset that he can't update his Facebook by texting it... and might cry as a result  School today also. Blah!\", 0]\n"
          ],
          "name": "stdout"
        }
      ]
    },
    {
      "cell_type": "code",
      "metadata": {
        "colab_type": "code",
        "id": "ohOGz24lsNAD",
        "colab": {}
      },
      "source": [
        "sentences=[]\n",
        "labels=[]\n",
        "random.shuffle(corpus)\n",
        "for x in range(training_size):\n",
        "    sentences.append(corpus[x][0])\n",
        "    labels.append(corpus[x][1])\n",
        "\n",
        "\n",
        "tokenizer = Tokenizer()\n",
        "tokenizer.fit_on_texts(sentences)\n",
        "\n",
        "word_index = tokenizer.word_index\n",
        "vocab_size=len(word_index)\n",
        "\n",
        "sequences = tokenizer.texts_to_sequences(sentences)\n",
        "padded = pad_sequences(sequences, maxlen=max_length, padding=padding_type, truncating=trunc_type)\n",
        "\n",
        "split = int(test_portion * training_size)\n",
        "\n",
        "test_sequences = padded[0:split]\n",
        "training_sequences = padded[split:training_size]\n",
        "test_labels = labels[0:split]\n",
        "training_labels = labels[split:training_size]"
      ],
      "execution_count": 6,
      "outputs": []
    },
    {
      "cell_type": "code",
      "metadata": {
        "colab_type": "code",
        "id": "gIrtRem1En3N",
        "colab": {
          "base_uri": "https://localhost:8080/",
          "height": 51
        },
        "outputId": "a0393513-a000-47c6-e46c-b6df819b7ae6"
      },
      "source": [
        "print(vocab_size)\n",
        "print(word_index['i'])\n",
        "# Expected Output\n",
        "# 138858\n",
        "# 1"
      ],
      "execution_count": 7,
      "outputs": [
        {
          "output_type": "stream",
          "text": [
            "138290\n",
            "1\n"
          ],
          "name": "stdout"
        }
      ]
    },
    {
      "cell_type": "code",
      "metadata": {
        "colab_type": "code",
        "id": "C1zdgJkusRh0",
        "colab": {
          "base_uri": "https://localhost:8080/",
          "height": 204
        },
        "outputId": "c7d776d7-0ab4-40fe-8d45-efccbea11504"
      },
      "source": [
        "# Note this is the 100 dimension version of GloVe from Stanford\n",
        "# I unzipped and hosted it on my site to make this notebook easier\n",
        "!wget --no-check-certificate \\\n",
        "    https://storage.googleapis.com/laurencemoroney-blog.appspot.com/glove.6B.100d.txt \\\n",
        "    -O /tmp/glove.6B.100d.txt\n",
        "embeddings_index = {};\n",
        "with open('/tmp/glove.6B.100d.txt') as f:\n",
        "    for line in f:\n",
        "        values = line.split();\n",
        "        word = values[0];\n",
        "        coefs = np.asarray(values[1:], dtype='float32');\n",
        "        embeddings_index[word] = coefs;\n",
        "\n",
        "embeddings_matrix = np.zeros((vocab_size+1, embedding_dim));\n",
        "for word, i in word_index.items():\n",
        "    embedding_vector = embeddings_index.get(word);\n",
        "    if embedding_vector is not None:\n",
        "        embeddings_matrix[i] = embedding_vector;"
      ],
      "execution_count": 8,
      "outputs": [
        {
          "output_type": "stream",
          "text": [
            "--2020-08-06 10:56:34--  https://storage.googleapis.com/laurencemoroney-blog.appspot.com/glove.6B.100d.txt\n",
            "Resolving storage.googleapis.com (storage.googleapis.com)... 74.125.28.128, 74.125.142.128, 74.125.195.128, ...\n",
            "Connecting to storage.googleapis.com (storage.googleapis.com)|74.125.28.128|:443... connected.\n",
            "HTTP request sent, awaiting response... 200 OK\n",
            "Length: 347116733 (331M) [text/plain]\n",
            "Saving to: ‘/tmp/glove.6B.100d.txt’\n",
            "\n",
            "/tmp/glove.6B.100d. 100%[===================>] 331.04M   204MB/s    in 1.6s    \n",
            "\n",
            "2020-08-06 10:56:36 (204 MB/s) - ‘/tmp/glove.6B.100d.txt’ saved [347116733/347116733]\n",
            "\n"
          ],
          "name": "stdout"
        }
      ]
    },
    {
      "cell_type": "code",
      "metadata": {
        "colab_type": "code",
        "id": "71NLk_lpFLNt",
        "colab": {
          "base_uri": "https://localhost:8080/",
          "height": 34
        },
        "outputId": "4b9a47bb-0898-4e28-83af-9dbc972c663b"
      },
      "source": [
        "print(len(embeddings_matrix))\n",
        "# Expected Output\n",
        "# 138859"
      ],
      "execution_count": 9,
      "outputs": [
        {
          "output_type": "stream",
          "text": [
            "138291\n"
          ],
          "name": "stdout"
        }
      ]
    },
    {
      "cell_type": "code",
      "metadata": {
        "colab_type": "code",
        "id": "iKKvbuEBOGFz",
        "colab": {
          "base_uri": "https://localhost:8080/",
          "height": 1000
        },
        "outputId": "322bbdfd-d7d5-43e7-8f1c-bde8bc1216be"
      },
      "source": [
        "model = tf.keras.Sequential([\n",
        "    tf.keras.layers.Embedding(vocab_size+1, embedding_dim, input_length=max_length, weights=[embeddings_matrix], trainable=False),\n",
        "    tf.keras.layers.Dropout(0.2),\n",
        "    tf.keras.layers.Conv1D(64, 5, activation='relu'),\n",
        "    tf.keras.layers.MaxPooling1D(pool_size=4),\n",
        "    tf.keras.layers.LSTM(64),\n",
        "    tf.keras.layers.Dense(1, activation='sigmoid')\n",
        "])\n",
        "model.compile(loss='binary_crossentropy',optimizer='adam',metrics=['accuracy'])\n",
        "model.summary()\n",
        "\n",
        "num_epochs = 50\n",
        "\n",
        "training_padded = np.array(training_sequences)\n",
        "training_labels = np.array(training_labels)\n",
        "testing_padded = np.array(test_sequences)\n",
        "testing_labels = np.array(test_labels)\n",
        "\n",
        "history = model.fit(training_padded, training_labels, epochs=num_epochs, validation_data=(testing_padded, testing_labels), verbose=2)\n",
        "\n",
        "print(\"Training Complete\")"
      ],
      "execution_count": 10,
      "outputs": [
        {
          "output_type": "stream",
          "text": [
            "Model: \"sequential\"\n",
            "_________________________________________________________________\n",
            "Layer (type)                 Output Shape              Param #   \n",
            "=================================================================\n",
            "embedding (Embedding)        (None, 16, 100)           13829100  \n",
            "_________________________________________________________________\n",
            "dropout (Dropout)            (None, 16, 100)           0         \n",
            "_________________________________________________________________\n",
            "conv1d (Conv1D)              (None, 12, 64)            32064     \n",
            "_________________________________________________________________\n",
            "max_pooling1d (MaxPooling1D) (None, 3, 64)             0         \n",
            "_________________________________________________________________\n",
            "lstm (LSTM)                  (None, 64)                33024     \n",
            "_________________________________________________________________\n",
            "dense (Dense)                (None, 1)                 65        \n",
            "=================================================================\n",
            "Total params: 13,894,253\n",
            "Trainable params: 65,153\n",
            "Non-trainable params: 13,829,100\n",
            "_________________________________________________________________\n",
            "Epoch 1/50\n",
            "4500/4500 - 16s - loss: 0.5674 - accuracy: 0.6997 - val_loss: 0.5262 - val_accuracy: 0.7364\n",
            "Epoch 2/50\n",
            "4500/4500 - 15s - loss: 0.5271 - accuracy: 0.7311 - val_loss: 0.5177 - val_accuracy: 0.7386\n",
            "Epoch 3/50\n",
            "4500/4500 - 15s - loss: 0.5118 - accuracy: 0.7433 - val_loss: 0.5090 - val_accuracy: 0.7470\n",
            "Epoch 4/50\n",
            "4500/4500 - 15s - loss: 0.5000 - accuracy: 0.7506 - val_loss: 0.5040 - val_accuracy: 0.7541\n",
            "Epoch 5/50\n",
            "4500/4500 - 15s - loss: 0.4927 - accuracy: 0.7554 - val_loss: 0.5054 - val_accuracy: 0.7505\n",
            "Epoch 6/50\n",
            "4500/4500 - 15s - loss: 0.4857 - accuracy: 0.7615 - val_loss: 0.5103 - val_accuracy: 0.7473\n",
            "Epoch 7/50\n",
            "4500/4500 - 15s - loss: 0.4796 - accuracy: 0.7642 - val_loss: 0.5057 - val_accuracy: 0.7508\n",
            "Epoch 8/50\n",
            "4500/4500 - 15s - loss: 0.4727 - accuracy: 0.7682 - val_loss: 0.5043 - val_accuracy: 0.7499\n",
            "Epoch 9/50\n",
            "4500/4500 - 15s - loss: 0.4687 - accuracy: 0.7722 - val_loss: 0.5049 - val_accuracy: 0.7511\n",
            "Epoch 10/50\n",
            "4500/4500 - 15s - loss: 0.4652 - accuracy: 0.7738 - val_loss: 0.5054 - val_accuracy: 0.7512\n",
            "Epoch 11/50\n",
            "4500/4500 - 15s - loss: 0.4614 - accuracy: 0.7763 - val_loss: 0.5061 - val_accuracy: 0.7527\n",
            "Epoch 12/50\n",
            "4500/4500 - 15s - loss: 0.4581 - accuracy: 0.7776 - val_loss: 0.5060 - val_accuracy: 0.7516\n",
            "Epoch 13/50\n",
            "4500/4500 - 15s - loss: 0.4570 - accuracy: 0.7783 - val_loss: 0.5153 - val_accuracy: 0.7548\n",
            "Epoch 14/50\n",
            "4500/4500 - 15s - loss: 0.4545 - accuracy: 0.7797 - val_loss: 0.5119 - val_accuracy: 0.7471\n",
            "Epoch 15/50\n",
            "4500/4500 - 15s - loss: 0.4510 - accuracy: 0.7823 - val_loss: 0.5150 - val_accuracy: 0.7509\n",
            "Epoch 16/50\n",
            "4500/4500 - 15s - loss: 0.4495 - accuracy: 0.7836 - val_loss: 0.5113 - val_accuracy: 0.7552\n",
            "Epoch 17/50\n",
            "4500/4500 - 15s - loss: 0.4473 - accuracy: 0.7840 - val_loss: 0.5128 - val_accuracy: 0.7491\n",
            "Epoch 18/50\n",
            "4500/4500 - 15s - loss: 0.4461 - accuracy: 0.7852 - val_loss: 0.5113 - val_accuracy: 0.7519\n",
            "Epoch 19/50\n",
            "4500/4500 - 15s - loss: 0.4442 - accuracy: 0.7866 - val_loss: 0.5162 - val_accuracy: 0.7501\n",
            "Epoch 20/50\n",
            "4500/4500 - 15s - loss: 0.4428 - accuracy: 0.7868 - val_loss: 0.5135 - val_accuracy: 0.7481\n",
            "Epoch 21/50\n",
            "4500/4500 - 15s - loss: 0.4419 - accuracy: 0.7868 - val_loss: 0.5197 - val_accuracy: 0.7492\n",
            "Epoch 22/50\n",
            "4500/4500 - 15s - loss: 0.4407 - accuracy: 0.7891 - val_loss: 0.5137 - val_accuracy: 0.7498\n",
            "Epoch 23/50\n",
            "4500/4500 - 15s - loss: 0.4388 - accuracy: 0.7901 - val_loss: 0.5143 - val_accuracy: 0.7523\n",
            "Epoch 24/50\n",
            "4500/4500 - 15s - loss: 0.4390 - accuracy: 0.7892 - val_loss: 0.5163 - val_accuracy: 0.7491\n",
            "Epoch 25/50\n",
            "4500/4500 - 15s - loss: 0.4381 - accuracy: 0.7905 - val_loss: 0.5186 - val_accuracy: 0.7491\n",
            "Epoch 26/50\n",
            "4500/4500 - 15s - loss: 0.4373 - accuracy: 0.7912 - val_loss: 0.5191 - val_accuracy: 0.7500\n",
            "Epoch 27/50\n",
            "4500/4500 - 15s - loss: 0.4374 - accuracy: 0.7891 - val_loss: 0.5219 - val_accuracy: 0.7516\n",
            "Epoch 28/50\n",
            "4500/4500 - 15s - loss: 0.4367 - accuracy: 0.7907 - val_loss: 0.5211 - val_accuracy: 0.7506\n",
            "Epoch 29/50\n",
            "4500/4500 - 15s - loss: 0.4353 - accuracy: 0.7917 - val_loss: 0.5182 - val_accuracy: 0.7510\n",
            "Epoch 30/50\n",
            "4500/4500 - 15s - loss: 0.4350 - accuracy: 0.7923 - val_loss: 0.5212 - val_accuracy: 0.7496\n",
            "Epoch 31/50\n",
            "4500/4500 - 15s - loss: 0.4343 - accuracy: 0.7923 - val_loss: 0.5172 - val_accuracy: 0.7494\n",
            "Epoch 32/50\n",
            "4500/4500 - 14s - loss: 0.4340 - accuracy: 0.7917 - val_loss: 0.5202 - val_accuracy: 0.7464\n",
            "Epoch 33/50\n",
            "4500/4500 - 14s - loss: 0.4336 - accuracy: 0.7929 - val_loss: 0.5198 - val_accuracy: 0.7472\n",
            "Epoch 34/50\n",
            "4500/4500 - 14s - loss: 0.4332 - accuracy: 0.7920 - val_loss: 0.5195 - val_accuracy: 0.7489\n",
            "Epoch 35/50\n",
            "4500/4500 - 14s - loss: 0.4318 - accuracy: 0.7940 - val_loss: 0.5211 - val_accuracy: 0.7501\n",
            "Epoch 36/50\n",
            "4500/4500 - 15s - loss: 0.4326 - accuracy: 0.7938 - val_loss: 0.5241 - val_accuracy: 0.7486\n",
            "Epoch 37/50\n",
            "4500/4500 - 15s - loss: 0.4309 - accuracy: 0.7946 - val_loss: 0.5198 - val_accuracy: 0.7509\n",
            "Epoch 38/50\n",
            "4500/4500 - 14s - loss: 0.4309 - accuracy: 0.7933 - val_loss: 0.5179 - val_accuracy: 0.7494\n",
            "Epoch 39/50\n",
            "4500/4500 - 14s - loss: 0.4301 - accuracy: 0.7944 - val_loss: 0.5179 - val_accuracy: 0.7507\n",
            "Epoch 40/50\n",
            "4500/4500 - 14s - loss: 0.4295 - accuracy: 0.7950 - val_loss: 0.5293 - val_accuracy: 0.7476\n",
            "Epoch 41/50\n",
            "4500/4500 - 15s - loss: 0.4304 - accuracy: 0.7945 - val_loss: 0.5216 - val_accuracy: 0.7504\n",
            "Epoch 42/50\n",
            "4500/4500 - 15s - loss: 0.4288 - accuracy: 0.7960 - val_loss: 0.5261 - val_accuracy: 0.7434\n",
            "Epoch 43/50\n",
            "4500/4500 - 15s - loss: 0.4279 - accuracy: 0.7954 - val_loss: 0.5239 - val_accuracy: 0.7484\n",
            "Epoch 44/50\n",
            "4500/4500 - 15s - loss: 0.4301 - accuracy: 0.7936 - val_loss: 0.5226 - val_accuracy: 0.7489\n",
            "Epoch 45/50\n",
            "4500/4500 - 15s - loss: 0.4289 - accuracy: 0.7952 - val_loss: 0.5293 - val_accuracy: 0.7467\n",
            "Epoch 46/50\n",
            "4500/4500 - 15s - loss: 0.4284 - accuracy: 0.7962 - val_loss: 0.5263 - val_accuracy: 0.7493\n",
            "Epoch 47/50\n",
            "4500/4500 - 15s - loss: 0.4281 - accuracy: 0.7958 - val_loss: 0.5254 - val_accuracy: 0.7521\n",
            "Epoch 48/50\n",
            "4500/4500 - 14s - loss: 0.4278 - accuracy: 0.7973 - val_loss: 0.5226 - val_accuracy: 0.7498\n",
            "Epoch 49/50\n",
            "4500/4500 - 15s - loss: 0.4275 - accuracy: 0.7962 - val_loss: 0.5266 - val_accuracy: 0.7502\n",
            "Epoch 50/50\n",
            "4500/4500 - 15s - loss: 0.4264 - accuracy: 0.7971 - val_loss: 0.5279 - val_accuracy: 0.7493\n",
            "Training Complete\n"
          ],
          "name": "stdout"
        }
      ]
    },
    {
      "cell_type": "code",
      "metadata": {
        "colab_type": "code",
        "id": "qxju4ItJKO8F",
        "colab": {
          "base_uri": "https://localhost:8080/",
          "height": 607
        },
        "outputId": "1838937d-2686-4f3b-ee57-eee7e6e5ed8f"
      },
      "source": [
        "import matplotlib.image  as mpimg\n",
        "import matplotlib.pyplot as plt\n",
        "\n",
        "#-----------------------------------------------------------\n",
        "# Retrieve a list of list results on training and test data\n",
        "# sets for each training epoch\n",
        "#-----------------------------------------------------------\n",
        "acc=history.history['accuracy']\n",
        "val_acc=history.history['val_accuracy']\n",
        "loss=history.history['loss']\n",
        "val_loss=history.history['val_loss']\n",
        "\n",
        "epochs=range(len(acc)) # Get number of epochs\n",
        "\n",
        "#------------------------------------------------\n",
        "# Plot training and validation accuracy per epoch\n",
        "#------------------------------------------------\n",
        "plt.plot(epochs, acc, 'r')\n",
        "plt.plot(epochs, val_acc, 'b')\n",
        "plt.title('Training and validation accuracy')\n",
        "plt.xlabel(\"Epochs\")\n",
        "plt.ylabel(\"Accuracy\")\n",
        "plt.legend([\"Accuracy\", \"Validation Accuracy\"])\n",
        "\n",
        "plt.figure()\n",
        "\n",
        "#------------------------------------------------\n",
        "# Plot training and validation loss per epoch\n",
        "#------------------------------------------------\n",
        "plt.plot(epochs, loss, 'r')\n",
        "plt.plot(epochs, val_loss, 'b')\n",
        "plt.title('Training and validation loss')\n",
        "plt.xlabel(\"Epochs\")\n",
        "plt.ylabel(\"Loss\")\n",
        "plt.legend([\"Loss\", \"Validation Loss\"])\n",
        "\n",
        "plt.figure()\n",
        "\n",
        "\n",
        "# Expected Output\n",
        "# A chart where the validation loss does not increase sharply!"
      ],
      "execution_count": 11,
      "outputs": [
        {
          "output_type": "execute_result",
          "data": {
            "text/plain": [
              "<Figure size 432x288 with 0 Axes>"
            ]
          },
          "metadata": {
            "tags": []
          },
          "execution_count": 11
        },
        {
          "output_type": "display_data",
          "data": {
            "image/png": "[encoded data removed]",
            "text/plain": [
              "<Figure size 432x288 with 1 Axes>"
            ]
          },
          "metadata": {
            "tags": [],
            "needs_background": "light"
          }
        },
        {
          "output_type": "display_data",
          "data": {
            "image/png": "[encoded data removed]",
            "text/plain": [
              "<Figure size 432x288 with 1 Axes>"
            ]
          },
          "metadata": {
            "tags": [],
            "needs_background": "light"
          }
        },
        {
          "output_type": "display_data",
          "data": {
            "text/plain": [
              "<Figure size 432x288 with 0 Axes>"
            ]
          },
          "metadata": {
            "tags": []
          }
        }
      ]
    },
    {
      "cell_type": "code",
      "metadata": {
        "id": "PlE7YHJUalEd",
        "colab_type": "code",
        "colab": {}
      },
      "source": [
        ""
      ],
      "execution_count": null,
      "outputs": []
    }
  ]
}